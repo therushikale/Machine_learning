{
 "cells": [
  {
   "cell_type": "raw",
   "id": "ef5ade6d",
   "metadata": {},
   "source": []
  },
  {
   "cell_type": "markdown",
   "id": "d1009f4c",
   "metadata": {},
   "source": [
    "# ARTIFICIAL INTELLIGENCE AND DATA SCIENCE MINI-PROJECT"
   ]
  },
  {
   "cell_type": "code",
   "execution_count": 1,
   "id": "eb11da55",
   "metadata": {},
   "outputs": [
    {
     "name": "stdout",
     "output_type": "stream",
     "text": [
      "Requirement already satisfied: opencv-python in d:\\anaconda\\lib\\site-packages (4.5.5.64)\n",
      "Requirement already satisfied: numpy>=1.17.3 in d:\\anaconda\\lib\\site-packages (from opencv-python) (1.20.3)\n",
      "Note: you may need to restart the kernel to use updated packages.\n"
     ]
    }
   ],
   "source": [
    "pip install opencv-python"
   ]
  },
  {
   "cell_type": "code",
   "execution_count": 2,
   "id": "7c5e3c75",
   "metadata": {},
   "outputs": [],
   "source": [
    "from ast import Import\n",
    "from turtle import shape\n",
    "from PIL import Image\n",
    "import cv2\n",
    "import numpy as np\n",
    "import sys\n",
    "import pickle"
   ]
  },
  {
   "cell_type": "code",
   "execution_count": 3,
   "id": "d7e2970a",
   "metadata": {},
   "outputs": [],
   "source": [
    "WIDTH = 310/2\n",
    "HEIGHT = 568/2\n",
    "\n",
    "size = (int(WIDTH), int(HEIGHT))"
   ]
  },
  {
   "cell_type": "markdown",
   "id": "4a959784",
   "metadata": {},
   "source": [
    "# Preprocessing"
   ]
  },
  {
   "cell_type": "code",
   "execution_count": 4,
   "id": "b815e46c",
   "metadata": {},
   "outputs": [],
   "source": [
    "\n",
    "def resize_and_save(img_name):\n",
    "    main_image = Image.open(\"C:/Users/231327/Desktop/Bone-Fracture-Detection-master - Copy/manual/images/Fractured/{}\".format(img_name))\n",
    "    x= main_image.resize(size, Image.NEAREST)\n",
    "    x.save(\"C:/Users/231327/Desktop/Bone-Fracture-Detection-master - Copy/manual/images/resized/{}\".format(img_name))\n",
    "    # print(main_image.show())\n"
   ]
  },
  {
   "cell_type": "markdown",
   "id": "162083a8",
   "metadata": {},
   "source": [
    "Reshape and Resize the images from dataset"
   ]
  },
  {
   "cell_type": "code",
   "execution_count": 5,
   "id": "e118cafb",
   "metadata": {},
   "outputs": [],
   "source": [
    "def _reshape_img(arr):\n",
    "    flat_arr=[]\n",
    "    for i in range(arr.shape[0]):\n",
    "        for j in range(arr.shape[1]):\n",
    "            for k in range(arr.shape[2]):\n",
    "                flat_arr.append(arr[i][j][k])\n",
    "\n",
    "\n",
    "    return flat_arr\n"
   ]
  },
  {
   "cell_type": "code",
   "execution_count": 6,
   "id": "096b4711",
   "metadata": {},
   "outputs": [],
   "source": [
    "\n",
    "def _create_data(train_img_list, label_list):\n",
    "\n",
    "    inp_arr=[]\n",
    "    for img in train_img_list:\n",
    "        img= cv2.imread(img)\n",
    "        inp_arr.append(_reshape_img(img))\n",
    "    \n",
    "    inp_arr= np.array(inp_arr)\n",
    "    return inp_arr,np.array(label_list)"
   ]
  },
  {
   "cell_type": "code",
   "execution_count": 7,
   "id": "f6ae869e",
   "metadata": {},
   "outputs": [],
   "source": [
    "def train_and_save(train_img_list, label_list, model_name):\n",
    "    try:\n",
    "        with open(model_name,\"rb\") as file:\n",
    "            model= pickle.load(file)\n",
    "    except FileNotFoundError:\n",
    "        in_arr, out_arr= _create_data(train_img_list, label_list)\n",
    "        model= Ridge(alpha=0.01,tol=0.000001,max_iter=5000,random_state=43).fit(in_arr,out_arr)\n",
    "\n",
    "        with open(model_name,\"wb\") as file:\n",
    "            pickle.dump(model,file)    \n",
    "    return model\n"
   ]
  },
  {
   "cell_type": "code",
   "execution_count": 8,
   "id": "bd8fefcf",
   "metadata": {},
   "outputs": [],
   "source": [
    "def get_model(model_name):\n",
    "    try:\n",
    "        with open(model_name,\"rb\") as file:\n",
    "            model= pickle.load(file)\n",
    "            return model\n",
    "    except FileNotFoundError:\n",
    "        print(\"{} doesn't exist. Train and save a model first\".format(model_name))\n",
    "        sys.exit(0)\n"
   ]
  },
  {
   "cell_type": "code",
   "execution_count": 9,
   "id": "257fec9b",
   "metadata": {},
   "outputs": [
    {
     "ename": "FileNotFoundError",
     "evalue": "[Errno 2] No such file or directory: 'C:/Users/231327/Desktop/Bone-Fracture-Detection-master - Copy/manual/images/Fractured/0.jpg'",
     "output_type": "error",
     "traceback": [
      "\u001b[1;31m---------------------------------------------------------------------------\u001b[0m",
      "\u001b[1;31mFileNotFoundError\u001b[0m                         Traceback (most recent call last)",
      "\u001b[1;32m~\\AppData\\Local\\Temp/ipykernel_15736/2331583561.py\u001b[0m in \u001b[0;36m<module>\u001b[1;34m\u001b[0m\n\u001b[0;32m      3\u001b[0m         \u001b[1;32mtry\u001b[0m\u001b[1;33m:\u001b[0m\u001b[1;33m\u001b[0m\u001b[1;33m\u001b[0m\u001b[0m\n\u001b[1;32m----> 4\u001b[1;33m             \u001b[0mresize_and_save\u001b[0m\u001b[1;33m(\u001b[0m\u001b[1;34m\"{}.jpg\"\u001b[0m\u001b[1;33m.\u001b[0m\u001b[0mformat\u001b[0m\u001b[1;33m(\u001b[0m\u001b[0meach\u001b[0m\u001b[1;33m)\u001b[0m\u001b[1;33m)\u001b[0m\u001b[1;33m\u001b[0m\u001b[1;33m\u001b[0m\u001b[0m\n\u001b[0m\u001b[0;32m      5\u001b[0m         \u001b[1;32mexcept\u001b[0m \u001b[0mIOError\u001b[0m\u001b[1;33m:\u001b[0m\u001b[1;33m\u001b[0m\u001b[1;33m\u001b[0m\u001b[0m\n",
      "\u001b[1;32m~\\AppData\\Local\\Temp/ipykernel_15736/2189656910.py\u001b[0m in \u001b[0;36mresize_and_save\u001b[1;34m(img_name)\u001b[0m\n\u001b[0;32m      1\u001b[0m \u001b[1;32mdef\u001b[0m \u001b[0mresize_and_save\u001b[0m\u001b[1;33m(\u001b[0m\u001b[0mimg_name\u001b[0m\u001b[1;33m)\u001b[0m\u001b[1;33m:\u001b[0m\u001b[1;33m\u001b[0m\u001b[1;33m\u001b[0m\u001b[0m\n\u001b[1;32m----> 2\u001b[1;33m     \u001b[0mmain_image\u001b[0m \u001b[1;33m=\u001b[0m \u001b[0mImage\u001b[0m\u001b[1;33m.\u001b[0m\u001b[0mopen\u001b[0m\u001b[1;33m(\u001b[0m\u001b[1;34m\"C:/Users/231327/Desktop/Bone-Fracture-Detection-master - Copy/manual/images/Fractured/{}\"\u001b[0m\u001b[1;33m.\u001b[0m\u001b[0mformat\u001b[0m\u001b[1;33m(\u001b[0m\u001b[0mimg_name\u001b[0m\u001b[1;33m)\u001b[0m\u001b[1;33m)\u001b[0m\u001b[1;33m\u001b[0m\u001b[1;33m\u001b[0m\u001b[0m\n\u001b[0m\u001b[0;32m      3\u001b[0m     \u001b[0mx\u001b[0m\u001b[1;33m=\u001b[0m \u001b[0mmain_image\u001b[0m\u001b[1;33m.\u001b[0m\u001b[0mresize\u001b[0m\u001b[1;33m(\u001b[0m\u001b[0msize\u001b[0m\u001b[1;33m,\u001b[0m \u001b[0mImage\u001b[0m\u001b[1;33m.\u001b[0m\u001b[0mNEAREST\u001b[0m\u001b[1;33m)\u001b[0m\u001b[1;33m\u001b[0m\u001b[1;33m\u001b[0m\u001b[0m\n",
      "\u001b[1;32mD:\\anaconda\\lib\\site-packages\\PIL\\Image.py\u001b[0m in \u001b[0;36mopen\u001b[1;34m(fp, mode, formats)\u001b[0m\n\u001b[0;32m   2974\u001b[0m     \u001b[1;32mif\u001b[0m \u001b[0mfilename\u001b[0m\u001b[1;33m:\u001b[0m\u001b[1;33m\u001b[0m\u001b[1;33m\u001b[0m\u001b[0m\n\u001b[1;32m-> 2975\u001b[1;33m         \u001b[0mfp\u001b[0m \u001b[1;33m=\u001b[0m \u001b[0mbuiltins\u001b[0m\u001b[1;33m.\u001b[0m\u001b[0mopen\u001b[0m\u001b[1;33m(\u001b[0m\u001b[0mfilename\u001b[0m\u001b[1;33m,\u001b[0m \u001b[1;34m\"rb\"\u001b[0m\u001b[1;33m)\u001b[0m\u001b[1;33m\u001b[0m\u001b[1;33m\u001b[0m\u001b[0m\n\u001b[0m\u001b[0;32m   2976\u001b[0m         \u001b[0mexclusive_fp\u001b[0m \u001b[1;33m=\u001b[0m \u001b[1;32mTrue\u001b[0m\u001b[1;33m\u001b[0m\u001b[1;33m\u001b[0m\u001b[0m\n",
      "\u001b[1;31mFileNotFoundError\u001b[0m: [Errno 2] No such file or directory: 'C:/Users/231327/Desktop/Bone-Fracture-Detection-master - Copy/manual/images/Fractured/0.jpg'",
      "\nDuring handling of the above exception, another exception occurred:\n",
      "\u001b[1;31mFileNotFoundError\u001b[0m                         Traceback (most recent call last)",
      "\u001b[1;32m~\\AppData\\Local\\Temp/ipykernel_15736/2331583561.py\u001b[0m in \u001b[0;36m<module>\u001b[1;34m\u001b[0m\n\u001b[0;32m      6\u001b[0m             \u001b[1;32mtry\u001b[0m\u001b[1;33m:\u001b[0m\u001b[1;33m\u001b[0m\u001b[1;33m\u001b[0m\u001b[0m\n\u001b[1;32m----> 7\u001b[1;33m                 \u001b[0mresize_and_save\u001b[0m\u001b[1;33m(\u001b[0m\u001b[1;34m\"{}.jpg\"\u001b[0m\u001b[1;33m.\u001b[0m\u001b[0mformat\u001b[0m\u001b[1;33m(\u001b[0m\u001b[0meach\u001b[0m\u001b[1;33m)\u001b[0m\u001b[1;33m)\u001b[0m\u001b[1;33m\u001b[0m\u001b[1;33m\u001b[0m\u001b[0m\n\u001b[0m\u001b[0;32m      8\u001b[0m             \u001b[1;32mexcept\u001b[0m \u001b[0mIOError\u001b[0m\u001b[1;33m:\u001b[0m\u001b[1;33m\u001b[0m\u001b[1;33m\u001b[0m\u001b[0m\n",
      "\u001b[1;32m~\\AppData\\Local\\Temp/ipykernel_15736/2189656910.py\u001b[0m in \u001b[0;36mresize_and_save\u001b[1;34m(img_name)\u001b[0m\n\u001b[0;32m      1\u001b[0m \u001b[1;32mdef\u001b[0m \u001b[0mresize_and_save\u001b[0m\u001b[1;33m(\u001b[0m\u001b[0mimg_name\u001b[0m\u001b[1;33m)\u001b[0m\u001b[1;33m:\u001b[0m\u001b[1;33m\u001b[0m\u001b[1;33m\u001b[0m\u001b[0m\n\u001b[1;32m----> 2\u001b[1;33m     \u001b[0mmain_image\u001b[0m \u001b[1;33m=\u001b[0m \u001b[0mImage\u001b[0m\u001b[1;33m.\u001b[0m\u001b[0mopen\u001b[0m\u001b[1;33m(\u001b[0m\u001b[1;34m\"C:/Users/231327/Desktop/Bone-Fracture-Detection-master - Copy/manual/images/Fractured/{}\"\u001b[0m\u001b[1;33m.\u001b[0m\u001b[0mformat\u001b[0m\u001b[1;33m(\u001b[0m\u001b[0mimg_name\u001b[0m\u001b[1;33m)\u001b[0m\u001b[1;33m)\u001b[0m\u001b[1;33m\u001b[0m\u001b[1;33m\u001b[0m\u001b[0m\n\u001b[0m\u001b[0;32m      3\u001b[0m     \u001b[0mx\u001b[0m\u001b[1;33m=\u001b[0m \u001b[0mmain_image\u001b[0m\u001b[1;33m.\u001b[0m\u001b[0mresize\u001b[0m\u001b[1;33m(\u001b[0m\u001b[0msize\u001b[0m\u001b[1;33m,\u001b[0m \u001b[0mImage\u001b[0m\u001b[1;33m.\u001b[0m\u001b[0mNEAREST\u001b[0m\u001b[1;33m)\u001b[0m\u001b[1;33m\u001b[0m\u001b[1;33m\u001b[0m\u001b[0m\n",
      "\u001b[1;32mD:\\anaconda\\lib\\site-packages\\PIL\\Image.py\u001b[0m in \u001b[0;36mopen\u001b[1;34m(fp, mode, formats)\u001b[0m\n\u001b[0;32m   2974\u001b[0m     \u001b[1;32mif\u001b[0m \u001b[0mfilename\u001b[0m\u001b[1;33m:\u001b[0m\u001b[1;33m\u001b[0m\u001b[1;33m\u001b[0m\u001b[0m\n\u001b[1;32m-> 2975\u001b[1;33m         \u001b[0mfp\u001b[0m \u001b[1;33m=\u001b[0m \u001b[0mbuiltins\u001b[0m\u001b[1;33m.\u001b[0m\u001b[0mopen\u001b[0m\u001b[1;33m(\u001b[0m\u001b[0mfilename\u001b[0m\u001b[1;33m,\u001b[0m \u001b[1;34m\"rb\"\u001b[0m\u001b[1;33m)\u001b[0m\u001b[1;33m\u001b[0m\u001b[1;33m\u001b[0m\u001b[0m\n\u001b[0m\u001b[0;32m   2976\u001b[0m         \u001b[0mexclusive_fp\u001b[0m \u001b[1;33m=\u001b[0m \u001b[1;32mTrue\u001b[0m\u001b[1;33m\u001b[0m\u001b[1;33m\u001b[0m\u001b[0m\n",
      "\u001b[1;31mFileNotFoundError\u001b[0m: [Errno 2] No such file or directory: 'C:/Users/231327/Desktop/Bone-Fracture-Detection-master - Copy/manual/images/Fractured/0.jpg'",
      "\nDuring handling of the above exception, another exception occurred:\n",
      "\u001b[1;31mFileNotFoundError\u001b[0m                         Traceback (most recent call last)",
      "\u001b[1;32m~\\AppData\\Local\\Temp/ipykernel_15736/2331583561.py\u001b[0m in \u001b[0;36m<module>\u001b[1;34m\u001b[0m\n\u001b[0;32m      7\u001b[0m                 \u001b[0mresize_and_save\u001b[0m\u001b[1;33m(\u001b[0m\u001b[1;34m\"{}.jpg\"\u001b[0m\u001b[1;33m.\u001b[0m\u001b[0mformat\u001b[0m\u001b[1;33m(\u001b[0m\u001b[0meach\u001b[0m\u001b[1;33m)\u001b[0m\u001b[1;33m)\u001b[0m\u001b[1;33m\u001b[0m\u001b[1;33m\u001b[0m\u001b[0m\n\u001b[0;32m      8\u001b[0m             \u001b[1;32mexcept\u001b[0m \u001b[0mIOError\u001b[0m\u001b[1;33m:\u001b[0m\u001b[1;33m\u001b[0m\u001b[1;33m\u001b[0m\u001b[0m\n\u001b[1;32m----> 9\u001b[1;33m                 \u001b[0mresize_and_save\u001b[0m\u001b[1;33m(\u001b[0m\u001b[1;34m\"{}.jpg\"\u001b[0m\u001b[1;33m.\u001b[0m\u001b[0mformat\u001b[0m\u001b[1;33m(\u001b[0m\u001b[0meach\u001b[0m\u001b[1;33m)\u001b[0m\u001b[1;33m)\u001b[0m\u001b[1;33m\u001b[0m\u001b[1;33m\u001b[0m\u001b[0m\n\u001b[0m\u001b[0;32m     10\u001b[0m \u001b[0mprint\u001b[0m\u001b[1;33m(\u001b[0m\u001b[1;34m\"Reshape of images is done\"\u001b[0m\u001b[1;33m)\u001b[0m\u001b[1;33m\u001b[0m\u001b[1;33m\u001b[0m\u001b[0m\n\u001b[0;32m     11\u001b[0m \u001b[1;33m\u001b[0m\u001b[0m\n",
      "\u001b[1;32m~\\AppData\\Local\\Temp/ipykernel_15736/2189656910.py\u001b[0m in \u001b[0;36mresize_and_save\u001b[1;34m(img_name)\u001b[0m\n\u001b[0;32m      1\u001b[0m \u001b[1;32mdef\u001b[0m \u001b[0mresize_and_save\u001b[0m\u001b[1;33m(\u001b[0m\u001b[0mimg_name\u001b[0m\u001b[1;33m)\u001b[0m\u001b[1;33m:\u001b[0m\u001b[1;33m\u001b[0m\u001b[1;33m\u001b[0m\u001b[0m\n\u001b[1;32m----> 2\u001b[1;33m     \u001b[0mmain_image\u001b[0m \u001b[1;33m=\u001b[0m \u001b[0mImage\u001b[0m\u001b[1;33m.\u001b[0m\u001b[0mopen\u001b[0m\u001b[1;33m(\u001b[0m\u001b[1;34m\"C:/Users/231327/Desktop/Bone-Fracture-Detection-master - Copy/manual/images/Fractured/{}\"\u001b[0m\u001b[1;33m.\u001b[0m\u001b[0mformat\u001b[0m\u001b[1;33m(\u001b[0m\u001b[0mimg_name\u001b[0m\u001b[1;33m)\u001b[0m\u001b[1;33m)\u001b[0m\u001b[1;33m\u001b[0m\u001b[1;33m\u001b[0m\u001b[0m\n\u001b[0m\u001b[0;32m      3\u001b[0m     \u001b[0mx\u001b[0m\u001b[1;33m=\u001b[0m \u001b[0mmain_image\u001b[0m\u001b[1;33m.\u001b[0m\u001b[0mresize\u001b[0m\u001b[1;33m(\u001b[0m\u001b[0msize\u001b[0m\u001b[1;33m,\u001b[0m \u001b[0mImage\u001b[0m\u001b[1;33m.\u001b[0m\u001b[0mNEAREST\u001b[0m\u001b[1;33m)\u001b[0m\u001b[1;33m\u001b[0m\u001b[1;33m\u001b[0m\u001b[0m\n\u001b[0;32m      4\u001b[0m     \u001b[0mx\u001b[0m\u001b[1;33m.\u001b[0m\u001b[0msave\u001b[0m\u001b[1;33m(\u001b[0m\u001b[1;34m\"C:/Users/231327/Desktop/Bone-Fracture-Detection-master - Copy/manual/images/resized/{}\"\u001b[0m\u001b[1;33m.\u001b[0m\u001b[0mformat\u001b[0m\u001b[1;33m(\u001b[0m\u001b[0mimg_name\u001b[0m\u001b[1;33m)\u001b[0m\u001b[1;33m)\u001b[0m\u001b[1;33m\u001b[0m\u001b[1;33m\u001b[0m\u001b[0m\n\u001b[0;32m      5\u001b[0m     \u001b[1;31m# print(main_image.show())\u001b[0m\u001b[1;33m\u001b[0m\u001b[1;33m\u001b[0m\u001b[0m\n",
      "\u001b[1;32mD:\\anaconda\\lib\\site-packages\\PIL\\Image.py\u001b[0m in \u001b[0;36mopen\u001b[1;34m(fp, mode, formats)\u001b[0m\n\u001b[0;32m   2973\u001b[0m \u001b[1;33m\u001b[0m\u001b[0m\n\u001b[0;32m   2974\u001b[0m     \u001b[1;32mif\u001b[0m \u001b[0mfilename\u001b[0m\u001b[1;33m:\u001b[0m\u001b[1;33m\u001b[0m\u001b[1;33m\u001b[0m\u001b[0m\n\u001b[1;32m-> 2975\u001b[1;33m         \u001b[0mfp\u001b[0m \u001b[1;33m=\u001b[0m \u001b[0mbuiltins\u001b[0m\u001b[1;33m.\u001b[0m\u001b[0mopen\u001b[0m\u001b[1;33m(\u001b[0m\u001b[0mfilename\u001b[0m\u001b[1;33m,\u001b[0m \u001b[1;34m\"rb\"\u001b[0m\u001b[1;33m)\u001b[0m\u001b[1;33m\u001b[0m\u001b[1;33m\u001b[0m\u001b[0m\n\u001b[0m\u001b[0;32m   2976\u001b[0m         \u001b[0mexclusive_fp\u001b[0m \u001b[1;33m=\u001b[0m \u001b[1;32mTrue\u001b[0m\u001b[1;33m\u001b[0m\u001b[1;33m\u001b[0m\u001b[0m\n\u001b[0;32m   2977\u001b[0m \u001b[1;33m\u001b[0m\u001b[0m\n",
      "\u001b[1;31mFileNotFoundError\u001b[0m: [Errno 2] No such file or directory: 'C:/Users/231327/Desktop/Bone-Fracture-Detection-master - Copy/manual/images/Fractured/0.jpg'"
     ]
    }
   ],
   "source": [
    "if __name__==\"__main__\":\n",
    "    for each in range(0,238):\n",
    "        try:\n",
    "            resize_and_save(\"{}.jpg\".format(each))\n",
    "        except IOError:\n",
    "            try:\n",
    "                resize_and_save(\"{}.jpg\".format(each))\n",
    "            except IOError:\n",
    "                resize_and_save(\"{}.jpg\".format(each))\n",
    "print(\"Reshape of images is done\")\n",
    "   "
   ]
  },
  {
   "cell_type": "markdown",
   "id": "021aff4e",
   "metadata": {},
   "source": [
    "# Model Training"
   ]
  },
  {
   "cell_type": "code",
   "execution_count": null,
   "id": "20727065",
   "metadata": {},
   "outputs": [],
   "source": [
    "\n",
    " from train_label import train_label, test_label\n",
    "\n",
    "train_img_list=[]\n",
    "train_label_list=[]\n",
    "for key in train_label.keys():\n",
    "        train_img_list.append(\"C:/Users/231327/Desktop/Bone-Fracture-Detection-master - Copy/manual/images/resized/\"+key+\".jpg\")\n",
    "        train_label_list.append(train_label[key])\n",
    "    \n",
    "test_img_list=[]\n",
    "test_label_list=[]\n",
    "for key in test_label.keys():\n",
    "    test_img_list.append(\"C:/Users/231327/Desktop/Bone-Fracture-Detection-master - Copy/manual/images/resized/\"+key+\".jpg\")\n",
    "    test_label_list.append(test_label[key])\n",
    "print(\"Training started...\")\n",
    "svm_model=train_and_save(train_img_list,train_label_list, \"ridge_model\")\n",
    "print(\"Training finished...\")\n",
    "train_in_arr, train_out_arr= _create_data(train_img_list,train_label_list)\n",
    "test_in_arr, test_out_arr= _create_data(test_img_list,test_label_list)\n",
    "\n",
    "print(\"Training set score: {:.2f}\".format(svm_model.score(train_in_arr, train_out_arr)))\n",
    "print(\"Test set score: {:.2f}\".format(svm_model.score(test_in_arr, test_out_arr)))\n"
   ]
  },
  {
   "cell_type": "markdown",
   "id": "c1a6a584",
   "metadata": {},
   "source": [
    "# Model Testing"
   ]
  },
  {
   "cell_type": "code",
   "execution_count": null,
   "id": "bc035291",
   "metadata": {},
   "outputs": [],
   "source": [
    "import cv2\n",
    "import numpy as np\n",
    "\n",
    "img_name=\"new\"\n",
    "model_name= \"C:/Users/231327/Desktop/Bone-Fracture-Detection-master/manual/ridge_model\"\n",
    "img_file= 'C:/Users/231327/Desktop/Bone-Fracture-Detection-master/manual/images/resized/{}'.format(img_name)\n",
    "orig_img= 'C:/Users/231327/Desktop/Bone-Fracture-Detection-master/manual/images/Fractured/{}'.format(img_name)\n"
   ]
  },
  {
   "cell_type": "code",
   "execution_count": null,
   "id": "b85b1b15",
   "metadata": {},
   "outputs": [],
   "source": [
    "try:\n",
    "    img_t=cv2.imread(img_file+\".JPG\",cv2.IMREAD_COLOR)\n",
    "    img=cv2.imread(orig_img+\".JPG\",cv2.IMREAD_COLOR)\n",
    "    shape= img.shape\n",
    "except (AttributeError,FileNotFoundError):\n",
    "    try:\n",
    "        img_t=cv2.imread(img_file+\".JPG\",cv2.IMREAD_COLOR)\n",
    "        img=cv2.imread(orig_img+\".JPG\",cv2.IMREAD_COLOR)\n",
    "        shape=img.shape\n",
    "    except (AttributeError,FileNotFoundError):\n",
    "        img_t=cv2.imread(img_file+\".png\",cv2.IMREAD_COLOR)\n",
    "        img=cv2.imread(orig_img+\".png\",cv2.IMREAD_COLOR)\n",
    "        shape=img.shape\n",
    "\n",
    "print(\"\\nShape: \",shape)\n",
    "print(\"\\nSize: \",img.size)\n",
    "print(\"\\nDType: \",img.dtype)\n"
   ]
  },
  {
   "cell_type": "code",
   "execution_count": null,
   "id": "658c0423",
   "metadata": {},
   "outputs": [],
   "source": [
    "def segment_img(_img,limit):\n",
    "    for i in range(0,_img.shape[0]-1):\n",
    "        for j in range(0,_img.shape[1]-1): \n",
    "            if int(_img[i,j+1])-int(_img[i,j])>=limit:\n",
    "                _img[i,j]=0\n",
    "            elif(int(_img[i,j-1])-int(_img[i,j])>=limit):\n",
    "                _img[i,j]=0\n",
    "\n",
    "    return _img\n"
   ]
  },
  {
   "cell_type": "code",
   "execution_count": null,
   "id": "f1e92fac",
   "metadata": {},
   "outputs": [],
   "source": [
    "gray=cv2.cvtColor(img,cv2.COLOR_BGR2GRAY)\n",
    "cv2.imshow(\"GrayEdited\",gray) #1\n",
    "median = cv2.medianBlur(gray,5)\n"
   ]
  },
  {
   "cell_type": "code",
   "execution_count": null,
   "id": "bb97ef28",
   "metadata": {},
   "outputs": [],
   "source": [
    "model= get_model(model_name)\n",
    "pred_thresh= model.predict([_reshape_img(img_t)])\n",
    "print(int(pred_thresh))\n",
    "pred_thresh=int(pred_thresh)\n",
    "bool,threshold_img=cv2.threshold(median,pred_thresh,255,cv2.THRESH_BINARY)\n",
    "# bool,threshold_img=cv2.threshold(median,100,255,cv2.THRESH_BINARY)\n",
    "\n",
    "cv2.imshow(\"threshold\",threshold_img) # image seg #2"
   ]
  },
  {
   "cell_type": "code",
   "execution_count": null,
   "id": "19535233",
   "metadata": {},
   "outputs": [],
   "source": [
    "initial=[]\n",
    "final=[]\n",
    "line=[]\n",
    "for i in range(0,gray.shape[0]):\n",
    "    tmp_initial=[]\n",
    "    tmp_final=[]\n",
    "    for j in range(0,gray.shape[1]-1):\n",
    "        if threshold_img[i,j]==0 and (threshold_img[i,j+1])==255:\n",
    "            tmp_initial.append((i,j))\n",
    "        if threshold_img[i,j]==255 and (threshold_img[i,j+1])==0:\n",
    "            tmp_final.append((i,j))\t\n",
    "    x= [each for each in zip(tmp_initial,tmp_final)]\n",
    "    x.sort(key= lambda each: each[1][1]-each[0][1])\n",
    "    try:\n",
    "        line.append(x[len(x)-1])\n",
    "    except IndexError: pass\n"
   ]
  },
  {
   "cell_type": "code",
   "execution_count": null,
   "id": "19e693bb",
   "metadata": {},
   "outputs": [],
   "source": [
    "err= 15\n",
    "danger_points=[]\n",
    "dist_list=[]\n",
    "\n",
    "for i in range(1,len(line)-1):\n",
    "    dist_list.append(line[i][1][1]-line[i][0][1])\n",
    "    try:\n",
    "        prev_= line[i-3]\n",
    "        next_= line[i+3]\n",
    "\n",
    "        dist_prev= prev_[1][1]-prev_[0][1]\n",
    "        dist_next= next_[1][1]-next_[0][1]\n",
    "        diff= abs(dist_next-dist_prev)\n",
    "        if diff>err:\n",
    "            print(\"Dist: {}\".format(abs(dist_next-dist_prev)))\n",
    "            print(line[i])\n",
    "            data=(diff, line[i])\n",
    "            print(data)\n",
    "            if len(danger_points):\n",
    "                prev_data=danger_points[len(danger_points)-1]\n",
    "                # print(prev_data)\n",
    "                    # print(\"here1....\")\n",
    "                if abs(prev_data[0]-data[0])>2 or data[1][0]-prev_data[1][0]!=1:\n",
    "                    # print(\"here2....\")\n",
    "                    # print(data)\n",
    "                    danger_points.append(data)\n",
    "            else:\n",
    "                print(data)\n",
    "                danger_points.append(data)\n",
    "    except Exception as e:\n",
    "        print(e)\n",
    "        pass\n",
    "    start,end= line[i]\n",
    "    mid=int((start[0]+end[0])/2),int((start[1]+end[1])/2)\n",
    "    img[mid[0],mid[1]]=[0,0,255]\n"
   ]
  },
  {
   "cell_type": "code",
   "execution_count": null,
   "id": "f57bb418",
   "metadata": {},
   "outputs": [],
   "source": [
    "for i in range(0,len(danger_points)-1,2):\n",
    "    try:\n",
    "        start_rect=danger_points[i][1][0][::-1]\n",
    "        start_rect=(start_rect[0]-40, start_rect[1]-40)\n",
    "        end_rect= danger_points[i+1][1][1][::-1]\n",
    "        end_rect= (end_rect[0]+40, end_rect[1]+40)\n",
    "        # cv2.rectangle(img,start_rect,end_rect,(0,255,0),2) #rect\n",
    "        cv2.rectangle(img,(30,250),(100,360),(0,300,0),2) #rect\n",
    "    except:\n",
    "        print(\"Pair not found\")\n",
    "import matplotlib.pyplot as plt\n",
    "import numpy as np\n",
    "\n",
    "fig, (ax1, ax2)= plt.subplots(2,1)\n",
    "# fig2, ax3= plt.subplots(1,1)\n",
    "\n",
    "x= np.arange(1,gray.shape[0]-1)\n",
    "y= dist_list\n",
    "# print(x)\n",
    "# print(y)\n",
    "print(len(x),len(y))\n",
    "x=x[1:100]\n",
    "y= y[1:100]\n",
    "cv2.calcHist(gray,[0],None,[256],[0,256])\n",
    "\n",
    "try:\n",
    "    ax1.plot(x,y)\n",
    "except:\n",
    "    print(\"Could not plot\")\n",
    "img= np.rot90(img)\n",
    "ax2.imshow(img)\n",
    "\n",
    "# ax3.hist(gray.ravel(),256,[0,256])\n",
    "# plt.title('Histogram for gray scale picture')\n",
    "plt.show()\n",
    "\n",
    "cv2.waitKey(0)\n",
    "cv2.destroyAllWindows() \n"
   ]
  }
 ],
 "metadata": {
  "kernelspec": {
   "display_name": "Python 3 (ipykernel)",
   "language": "python",
   "name": "python3"
  },
  "language_info": {
   "codemirror_mode": {
    "name": "ipython",
    "version": 3
   },
   "file_extension": ".py",
   "mimetype": "text/x-python",
   "name": "python",
   "nbconvert_exporter": "python",
   "pygments_lexer": "ipython3",
   "version": "3.9.7"
  }
 },
 "nbformat": 4,
 "nbformat_minor": 5
}
